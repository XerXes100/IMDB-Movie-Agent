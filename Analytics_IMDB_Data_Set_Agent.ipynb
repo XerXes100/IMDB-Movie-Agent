{
  "cells": [
    {
      "cell_type": "code",
      "execution_count": null,
      "metadata": {
        "colab": {
          "base_uri": "https://localhost:8080/"
        },
        "id": "EYfBL6RMAPON",
        "outputId": "2bf405c9-3884-476f-b3d3-95b8b37cca71"
      },
      "outputs": [],
      "source": [
        "!pip install langchain\n",
        "!pip install langchain_openai\n",
        "!pip install kagglehub\n",
        "!pip install pandas\n",
        "!pip install langchain_experimental"
      ]
    },
    {
      "cell_type": "code",
      "execution_count": 49,
      "metadata": {
        "colab": {
          "base_uri": "https://localhost:8080/"
        },
        "id": "ZXeyXzYsB9cA",
        "outputId": "de1c1afa-9312-44a9-e20a-fd9f8f1c9803"
      },
      "outputs": [
        {
          "name": "stdout",
          "output_type": "stream",
          "text": [
            "Warning: Looks like you're using an outdated `kagglehub` version (installed: 0.3.5), please consider upgrading to the latest version (0.3.6).\n"
          ]
        }
      ],
      "source": [
        "from langchain_experimental.agents import create_pandas_dataframe_agent\n",
        "import pandas as pd\n",
        "from langchain_openai import ChatOpenAI\n",
        "import kagglehub\n",
        "import os\n",
        "\n",
        "# Download latest version\n",
        "path = kagglehub.dataset_download(\"fernandogarciah24/top-1000-imdb-dataset\")\n",
        "file_path = os.path.join(path, 'imdb_top_1000.csv')\n",
        "df = pd.read_csv(file_path)\n",
        "\n",
        "import getpass\n",
        "\n",
        "# Enter your OpenAI API Key (It will save it in the environment variable)\n",
        "if not os.environ.get(\"OPENAI_API_KEY\"):\n",
        "  os.environ[\"OPENAI_API_KEY\"] = getpass.getpass(\"Enter your OpenAI API key: \")\n",
        "\n",
        "# Intialize the LLM\n",
        "llm = ChatOpenAI(\n",
        "  temperature=0,\n",
        "  model=\"gpt-4-turbo\",\n",
        "  openai_api_key=os.environ[\"OPENAI_API_KEY\"],\n",
        "  streaming=True,\n",
        ")\n",
        "\n",
        "# Create the agent\n",
        "agent = create_pandas_dataframe_agent(llm, df, allow_dangerous_code=True)"
      ]
    },
    {
      "cell_type": "code",
      "execution_count": null,
      "metadata": {
        "id": "CjKMO0T3PQJp"
      },
      "outputs": [],
      "source": [
        "'''\n",
        "USAGE OF THE AGENT\n",
        "\n",
        "result = agent.run(<YOUR_QUERY_HERE>)\n",
        "print(result)\n",
        "\n",
        "'''"
      ]
    },
    {
      "cell_type": "code",
      "execution_count": 23,
      "metadata": {
        "id": "EcEQLTgiEIsi"
      },
      "outputs": [],
      "source": [
        "'''\n",
        "\n",
        "Questions:\n",
        "\n",
        "1. Please give me a good drama movie released recently.\n",
        "2. What is a good action movie that is longer than 2 hours?\n",
        "3. How many drama movies are there in the top 1000 IMDB movies from the last 5 years?\n",
        "4. Is there any trend in the last 5 years regarding popular movie genres?\n",
        "5. What is the average rating for all movies?\n",
        "\n",
        "'''"
      ]
    },
    {
      "cell_type": "markdown",
      "metadata": {
        "id": "MhKSrhf-PKDi"
      },
      "source": [
        "### Running the agent to answer questions"
      ]
    },
    {
      "cell_type": "code",
      "execution_count": 50,
      "metadata": {
        "colab": {
          "base_uri": "https://localhost:8080/"
        },
        "id": "nSxaDI4GNWw9",
        "outputId": "649f8b3f-43eb-47ad-b353-23482e6cca52"
      },
      "outputs": [
        {
          "name": "stdout",
          "output_type": "stream",
          "text": [
            "\"Apollo 13\" is a good drama movie released recently, with a high IMDB rating and positive reviews.\n"
          ]
        }
      ],
      "source": [
        "response = agent.run(\"Please give me a good drama movie released recently.\")\n",
        "print(response)"
      ]
    },
    {
      "cell_type": "code",
      "execution_count": 51,
      "metadata": {
        "colab": {
          "base_uri": "https://localhost:8080/"
        },
        "id": "TG9injB3NZ6e",
        "outputId": "7788cbc8-30e5-45b5-a341-25128b7f500a"
      },
      "outputs": [
        {
          "name": "stdout",
          "output_type": "stream",
          "text": [
            "\"The Dark Knight\" is a good action movie that is longer than 2 hours, with a runtime of 152 minutes and an IMDB rating of 9.0.\n"
          ]
        }
      ],
      "source": [
        "response = agent.run(\"What is a good action movie that is longer than 2 hours?\")\n",
        "print(response)"
      ]
    },
    {
      "cell_type": "code",
      "execution_count": 52,
      "metadata": {
        "colab": {
          "base_uri": "https://localhost:8080/"
        },
        "id": "90E2RG_zNdYX",
        "outputId": "ef8b6e4e-d718-4430-f73f-321911511f2f"
      },
      "outputs": [
        {
          "name": "stdout",
          "output_type": "stream",
          "text": [
            "There are 76 drama movies in the top 1000 IMDB movies from the last 5 years (2016 to 2020).\n"
          ]
        }
      ],
      "source": [
        "response = agent.run(\"How many drama movies are there in the top 1000 IMDB movies from the last 5 years?\")\n",
        "print(response)"
      ]
    },
    {
      "cell_type": "code",
      "execution_count": 53,
      "metadata": {
        "colab": {
          "base_uri": "https://localhost:8080/"
        },
        "id": "gmSRC0J3NgyV",
        "outputId": "8ed0ccb4-6a2a-4d39-c78e-307b810f7d72"
      },
      "outputs": [
        {
          "name": "stdout",
          "output_type": "stream",
          "text": [
            "The provided dataset does not include movies from the last 5 years, so it is not possible to determine any trends in popular movie genres based on this data.\n"
          ]
        }
      ],
      "source": [
        "response = agent.run(\"Is there any trend in the last 5 years regarding popular movie genres?\")\n",
        "print(response)"
      ]
    },
    {
      "cell_type": "code",
      "execution_count": 54,
      "metadata": {
        "colab": {
          "base_uri": "https://localhost:8080/"
        },
        "id": "xRoMDK8YNj9t",
        "outputId": "cc92e928-dcbf-4b9b-81b4-1cc10b5b4009"
      },
      "outputs": [
        {
          "name": "stdout",
          "output_type": "stream",
          "text": [
            "The average IMDB rating for all movies in the dataframe is approximately 7.95.\n"
          ]
        }
      ],
      "source": [
        "response = agent.run(\"What is the average rating for all movies?\")\n",
        "print(response)"
      ]
    }
  ],
  "metadata": {
    "colab": {
      "provenance": []
    },
    "kernelspec": {
      "display_name": "Python 3",
      "name": "python3"
    },
    "language_info": {
      "name": "python"
    }
  },
  "nbformat": 4,
  "nbformat_minor": 0
}
